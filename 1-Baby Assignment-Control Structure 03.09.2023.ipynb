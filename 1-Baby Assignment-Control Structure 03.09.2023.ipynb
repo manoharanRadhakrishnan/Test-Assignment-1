{
 "cells": [
  {
   "cell_type": "code",
   "execution_count": null,
   "metadata": {},
   "outputs": [],
   "source": [
    "print(\"Welcome to Assignment-I\")"
   ]
  },
  {
   "cell_type": "code",
   "execution_count": null,
   "metadata": {},
   "outputs": [],
   "source": [
    "Num1=10\n",
    "print(\"Num1=10\")\n",
    "Num2=30\n",
    "print(\"Num2=30\")\n",
    "Add=Num1+Num2\n",
    "print(\"Add=40\")"
   ]
  },
  {
   "cell_type": "code",
   "execution_count": 3,
   "metadata": {},
   "outputs": [
    {
     "name": "stdout",
     "output_type": "stream",
     "text": [
      "enter your BMI INDEX=34\n"
     ]
    }
   ],
   "source": [
    "BMI =int(input(\"enter your BMI INDEX=\"))"
   ]
  },
  {
   "cell_type": "code",
   "execution_count": 11,
   "metadata": {},
   "outputs": [
    {
     "name": "stdout",
     "output_type": "stream",
     "text": [
      "over weight\n"
     ]
    }
   ],
   "source": [
    "if(BMI==34):\n",
    "    print(\"over weight\")"
   ]
  },
  {
   "cell_type": "code",
   "execution_count": null,
   "metadata": {},
   "outputs": [],
   "source": []
  },
  {
   "cell_type": "code",
   "execution_count": null,
   "metadata": {},
   "outputs": [],
   "source": []
  }
 ],
 "metadata": {
  "kernelspec": {
   "display_name": "Python 3",
   "language": "python",
   "name": "python3"
  }
 },
 "nbformat": 4,
 "nbformat_minor": 2
}
